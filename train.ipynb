{
 "cells": [
  {
   "cell_type": "code",
   "execution_count": 1,
   "metadata": {},
   "outputs": [],
   "source": [
    "from model import *\n",
    "from data import *"
   ]
  },
  {
   "cell_type": "markdown",
   "metadata": {},
   "source": [
    "### Train with data generator"
   ]
  },
  {
   "cell_type": "code",
   "execution_count": 2,
   "metadata": {},
   "outputs": [
    {
     "name": "stdout",
     "output_type": "stream",
     "text": [
      "Found 89 images belonging to 1 classes.\n",
      "Found 89 images belonging to 1 classes.\n",
      "Epoch 1/15\n",
      "500/500 [==============================] - ETA: 0s - loss: 0.3280 - accuracy: 0.9019\n",
      "Epoch 00001: saving model to trained_model.hdf5\n",
      "500/500 [==============================] - 51s 102ms/step - loss: 0.3280 - accuracy: 0.9019\n",
      "Epoch 2/15\n",
      "500/500 [==============================] - ETA: 0s - loss: 0.2852 - accuracy: 0.9399\n",
      "Epoch 00002: saving model to trained_model.hdf5\n",
      "500/500 [==============================] - 50s 101ms/step - loss: 0.2852 - accuracy: 0.9399\n",
      "Epoch 3/15\n",
      "500/500 [==============================] - ETA: 0s - loss: 0.2547 - accuracy: 0.9469\n",
      "Epoch 00003: saving model to trained_model.hdf5\n",
      "500/500 [==============================] - 52s 105ms/step - loss: 0.2547 - accuracy: 0.9469\n",
      "Epoch 4/15\n",
      "500/500 [==============================] - ETA: 0s - loss: 0.2268 - accuracy: 0.9515\n",
      "Epoch 00004: saving model to trained_model.hdf5\n",
      "500/500 [==============================] - 50s 101ms/step - loss: 0.2268 - accuracy: 0.9515\n",
      "Epoch 5/15\n",
      "500/500 [==============================] - ETA: 0s - loss: 0.2002 - accuracy: 0.9563\n",
      "Epoch 00005: saving model to trained_model.hdf5\n",
      "500/500 [==============================] - 50s 101ms/step - loss: 0.2002 - accuracy: 0.9563\n",
      "Epoch 6/15\n",
      "500/500 [==============================] - ETA: 0s - loss: 0.1760 - accuracy: 0.9602\n",
      "Epoch 00006: saving model to trained_model.hdf5\n",
      "500/500 [==============================] - 50s 101ms/step - loss: 0.1760 - accuracy: 0.9602\n",
      "Epoch 7/15\n",
      "500/500 [==============================] - ETA: 0s - loss: 0.1535 - accuracy: 0.9649\n",
      "Epoch 00007: saving model to trained_model.hdf5\n",
      "500/500 [==============================] - 50s 101ms/step - loss: 0.1535 - accuracy: 0.9649\n",
      "Epoch 8/15\n",
      "500/500 [==============================] - ETA: 0s - loss: 0.1357 - accuracy: 0.9650\n",
      "Epoch 00008: saving model to trained_model.hdf5\n",
      "500/500 [==============================] - 50s 101ms/step - loss: 0.1357 - accuracy: 0.9650\n",
      "Epoch 9/15\n",
      "500/500 [==============================] - ETA: 0s - loss: 0.1189 - accuracy: 0.9676\n",
      "Epoch 00009: saving model to trained_model.hdf5\n",
      "500/500 [==============================] - 50s 101ms/step - loss: 0.1189 - accuracy: 0.9676\n",
      "Epoch 10/15\n",
      "500/500 [==============================] - ETA: 0s - loss: 0.1029 - accuracy: 0.9704\n",
      "Epoch 00010: saving model to trained_model.hdf5\n",
      "500/500 [==============================] - 52s 105ms/step - loss: 0.1029 - accuracy: 0.9704\n",
      "Epoch 11/15\n",
      "500/500 [==============================] - ETA: 0s - loss: 0.0912 - accuracy: 0.9709\n",
      "Epoch 00011: saving model to trained_model.hdf5\n",
      "500/500 [==============================] - 50s 101ms/step - loss: 0.0912 - accuracy: 0.9709\n",
      "Epoch 12/15\n",
      "500/500 [==============================] - ETA: 0s - loss: 0.0797 - accuracy: 0.9727\n",
      "Epoch 00012: saving model to trained_model.hdf5\n",
      "500/500 [==============================] - 52s 105ms/step - loss: 0.0797 - accuracy: 0.9727\n",
      "Epoch 13/15\n",
      "500/500 [==============================] - ETA: 0s - loss: 0.0700 - accuracy: 0.9744\n",
      "Epoch 00013: saving model to trained_model.hdf5\n",
      "500/500 [==============================] - 50s 101ms/step - loss: 0.0700 - accuracy: 0.9744\n",
      "Epoch 14/15\n",
      "500/500 [==============================] - ETA: 0s - loss: 0.0640 - accuracy: 0.9733\n",
      "Epoch 00014: saving model to trained_model.hdf5\n",
      "500/500 [==============================] - 50s 101ms/step - loss: 0.0640 - accuracy: 0.9733\n",
      "Epoch 15/15\n",
      "500/500 [==============================] - ETA: 0s - loss: 0.0590 - accuracy: 0.9720\n",
      "Epoch 00015: saving model to trained_model.hdf5\n",
      "500/500 [==============================] - 51s 101ms/step - loss: 0.0590 - accuracy: 0.9720\n"
     ]
    },
    {
     "data": {
      "text/plain": [
       "<tensorflow.python.keras.callbacks.History at 0x7f4ab036b590>"
      ]
     },
     "execution_count": 2,
     "metadata": {},
     "output_type": "execute_result"
    }
   ],
   "source": [
    "# data augmentation arguments\n",
    "data_gen_args = dict(rotation_range=0.2,\n",
    "                    width_shift_range=0.05,\n",
    "                    height_shift_range=0.05,\n",
    "                    shear_range=0.05,\n",
    "                    zoom_range=0.05,\n",
    "                    horizontal_flip=True,\n",
    "                    fill_mode='nearest')\n",
    "\n",
    "# data augmentation generator\n",
    "# NOTE: augmented data can be saved by setting: save_to_dir='data/augment'\n",
    "data_gen = trainGenerator(2,'data/train','images','labels',data_gen_args,save_to_dir = None)\n",
    "\n",
    "# unet model\n",
    "model = unet()\n",
    "model_checkpoint = ModelCheckpoint('trained_model.hdf5', monitor='loss',verbose=1, save_best_only=False)\n",
    "\n",
    "# train the model\n",
    "# original settings: steps_per_epoch=1500,epochs=5\n",
    "model.fit(data_gen,\n",
    "          steps_per_epoch=500,\n",
    "          epochs=15,\n",
    "          callbacks=[model_checkpoint])"
   ]
  },
  {
   "cell_type": "markdown",
   "metadata": {},
   "source": [
    "### Test the model and Save predicted results"
   ]
  },
  {
   "cell_type": "code",
   "execution_count": 3,
   "metadata": {},
   "outputs": [
    {
     "name": "stdout",
     "output_type": "stream",
     "text": [
      "30/30 [==============================] - 1s 37ms/step\n"
     ]
    }
   ],
   "source": [
    "test_gen = testGenerator(\"data/results\")\n",
    "\n",
    "model = unet()\n",
    "\n",
    "model.load_weights(\"trained_model.hdf5\")\n",
    "\n",
    "results = model.predict(test_gen,30,verbose=1)\n",
    "\n",
    "saveResult(\"data/results\",results)"
   ]
  }
 ],
 "metadata": {
  "environment": {
   "name": "pytorch-gpu.1-4.m50",
   "type": "gcloud",
   "uri": "gcr.io/deeplearning-platform-release/pytorch-gpu.1-4:m50"
  },
  "kernelspec": {
   "display_name": "Python 3",
   "language": "python",
   "name": "python3"
  },
  "language_info": {
   "codemirror_mode": {
    "name": "ipython",
    "version": 3
   },
   "file_extension": ".py",
   "mimetype": "text/x-python",
   "name": "python",
   "nbconvert_exporter": "python",
   "pygments_lexer": "ipython3",
   "version": "3.7.6"
  }
 },
 "nbformat": 4,
 "nbformat_minor": 4
}
